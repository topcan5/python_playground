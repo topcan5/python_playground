{
 "cells": [
  {
   "cell_type": "markdown",
   "metadata": {},
   "source": [
    "# https://github.com/luckytoilet/projecteuler-solutions#:~:text=solve%20most%20problems.-,What%20is%20projecteuler%2Dsolutions%3F,solution%20listings%20for%20Project%20Euler."
   ]
  },
  {
   "cell_type": "code",
   "execution_count": 42,
   "metadata": {},
   "outputs": [],
   "source": [
    "from typing import List\n",
    "from datetime import datetime\n",
    "t_format = '\"%H:%M:%S\"'"
   ]
  },
  {
   "cell_type": "code",
   "execution_count": 3,
   "metadata": {},
   "outputs": [],
   "source": [
    "# 1. Multiples of 3 and 5\n",
    "# natual nubmers: just positive numbers\n",
    "upper = 1000\n",
    "_sum = sum([n for n in range(1, upper) if n % 3 == 0 or n % 5 == 0])\n",
    "assert 233168 == _sum"
   ]
  },
  {
   "cell_type": "code",
   "execution_count": null,
   "metadata": {},
   "outputs": [],
   "source": [
    "# 2. Even Fibonacci numbers\n",
    "upper = 4000000\n",
    "_sum = 0\n",
    "a, b = 0, 1\n",
    "while a < upper:\n",
    "    a, b = b, a + b\n",
    "    if a % 2 ==0:\n",
    "        _sum += a\n",
    "\n",
    "assert 4613732 == _sum, _sum"
   ]
  },
  {
   "cell_type": "code",
   "execution_count": null,
   "metadata": {},
   "outputs": [],
   "source": [
    "# 3 Largest prime factor\n",
    "# https://stackoverflow.com/questions/14138053/project-euler-3-with-python-most-efficient-method\n",
    "n = 600851475143\n",
    "i = 2\n",
    "while i * i < n:\n",
    "    # if it's a factor\n",
    "    while n % i == 0:\n",
    "        # n will be a whole num, since / by a factor\n",
    "        n = n / i\n",
    "    i = i + 1\n",
    "\n",
    "assert 6857 == n, n"
   ]
  },
  {
   "cell_type": "code",
   "execution_count": null,
   "metadata": {},
   "outputs": [],
   "source": [
    "# 4\n",
    "n, n1, n2 = 0, 0, 0\n",
    "for a in range(999, 100, -1):\n",
    "    for b in range(a, 100, -1):\n",
    "        # if both a and b are the smallest, don't need to calc\n",
    "        if a > n1 or a > n2 or b > n1 or b > n2:         \n",
    "            x = a * b\n",
    "            if x > n:\n",
    "                s = str(a * b)\n",
    "                if s == s[::-1]:\n",
    "                    n1, n2 = a, b\n",
    "                    n = a * b\n",
    "                \n",
    "assert 906609 == n, n"
   ]
  },
  {
   "cell_type": "code",
   "execution_count": null,
   "metadata": {},
   "outputs": [],
   "source": [
    "# 5\n",
    "# https://www.youtube.com/watch?v=Km36RkQToqo\n",
    "def isDivisible(n: int, r: int):\n",
    "    for i in range(2, r + 1):\n",
    "        if n % i != 0:\n",
    "            return False\n",
    "    return True\n",
    "    \n",
    "n = 10\n",
    "while True:\n",
    "    if isDivisible(n, 20):\n",
    "        break;\n",
    "    # need to divided by 20 anyway, so +20\n",
    "    n += 20\n",
    "\n",
    "assert 232792560 == n, n"
   ]
  },
  {
   "cell_type": "code",
   "execution_count": null,
   "metadata": {},
   "outputs": [],
   "source": [
    "# 6\n",
    "_s1 = sum(n**2 for n in range(1, 101))\n",
    "_s2 = sum(range(1, 101))**2\n",
    "res = _s2 - _s1\n",
    "assert 25164150 == res, res"
   ]
  },
  {
   "cell_type": "code",
   "execution_count": 13,
   "metadata": {},
   "outputs": [],
   "source": [
    "# 7. 10001st prime\n",
    "def isPrime(n):\n",
    "    if n == 2: return True\n",
    "    if n < 2 or n % 2 == 0: return False        \n",
    "    for i in range(2, int(n**0.5) + 1):\n",
    "        if n % i == 0:\n",
    "            return False\n",
    "    return True"
   ]
  },
  {
   "cell_type": "code",
   "execution_count": 10,
   "metadata": {},
   "outputs": [
    {
     "name": "stdout",
     "output_type": "stream",
     "text": [
      "\"08:52:09\"\n",
      "\"08:52:10\"\n"
     ]
    }
   ],
   "source": [
    "print(datetime.now().strftime(t_format))\n",
    "cnt = 10001\n",
    "x = 3\n",
    "l_p = [2]\n",
    "while(len(l_p) < cnt):\n",
    "    # method 1:\n",
    "    # return True for empty list\n",
    "#     if all(x % p for p in l_p):\n",
    "#         l_p.append(x)\n",
    "    # method 2: much faster, 4x faster\n",
    "    if (isPrime(x)):\n",
    "        l_p.append(x)\n",
    "    x+=1\n",
    "    \n",
    "assert 104743 == l_p[-1], l_p[-1]\n",
    "print(datetime.now().strftime(t_format))"
   ]
  },
  {
   "cell_type": "code",
   "execution_count": null,
   "metadata": {},
   "outputs": [],
   "source": [
    "# 8. Largest product in a series\n",
    "s = '73167176531330624919225119674426574742355349194934\\\n",
    "96983520312774506326239578318016984801869478851843\\\n",
    "85861560789112949495459501737958331952853208805511\\\n",
    "12540698747158523863050715693290963295227443043557\\\n",
    "66896648950445244523161731856403098711121722383113\\\n",
    "62229893423380308135336276614282806444486645238749\\\n",
    "30358907296290491560440772390713810515859307960866\\\n",
    "70172427121883998797908792274921901699720888093776\\\n",
    "65727333001053367881220235421809751254540594752243\\\n",
    "52584907711670556013604839586446706324415722155397\\\n",
    "53697817977846174064955149290862569321978468622482\\\n",
    "83972241375657056057490261407972968652414535100474\\\n",
    "82166370484403199890008895243450658541227588666881\\\n",
    "16427171479924442928230863465674813919123162824586\\\n",
    "17866458359124566529476545682848912883142607690042\\\n",
    "24219022671055626321111109370544217506941658960408\\\n",
    "07198403850962455444362981230987879927244284909188\\\n",
    "84580156166097919133875499200524063689912560717606\\\n",
    "05886116467109405077541002256983155200055935729725\\\n",
    "71636269561882670428252483600823257530420752963450'\n",
    "_len, _max, _cur = 13, 0, 1\n",
    "\n",
    "for i in range(len(s) - _len + 1):\n",
    "    _cur = 1\n",
    "    for j in range(_len):\n",
    "        _cur *= int(s[i+j])\n",
    "    _max = max(_max, _cur)    \n",
    "\n",
    "assert 23514624000 == _max, _max"
   ]
  },
  {
   "cell_type": "code",
   "execution_count": null,
   "metadata": {},
   "outputs": [],
   "source": [
    "# 9 Special Pythagorean triplet\n",
    "for a in range(1,1000):\n",
    "    for b in range(a,1000):\n",
    "        c = 1000-a-b\n",
    "        if c > b and (a**2+b**2) == c**2:\n",
    "            res = a*b*c\n",
    "            \n",
    "assert 31875000 == res, res            "
   ]
  },
  {
   "cell_type": "code",
   "execution_count": null,
   "metadata": {},
   "outputs": [],
   "source": [
    "# 10. Summation of primes\n",
    "l_p = []\n",
    "for x in range(2, 2000000):\n",
    "    if all(x % p for p in l_p):\n",
    "        l_p += [x]\n",
    "\n",
    "assert 142913828922 == sum(l_p), sum(l_p)        "
   ]
  },
  {
   "cell_type": "code",
   "execution_count": 14,
   "metadata": {},
   "outputs": [
    {
     "name": "stdout",
     "output_type": "stream",
     "text": [
      "\"17:06:52\"\n",
      "\"17:07:04\"\n"
     ]
    }
   ],
   "source": [
    "print(datetime.now().strftime(t_format))\n",
    "_sum = 0\n",
    "for n in range(2, 2000000):\n",
    "    if isPrime(n):\n",
    "        _sum += n\n",
    "print(datetime.now().strftime(t_format))\n",
    "assert 142913828922 == _sum, _sum   "
   ]
  },
  {
   "cell_type": "code",
   "execution_count": 57,
   "metadata": {},
   "outputs": [
    {
     "data": {
      "text/plain": [
       "'08 02 22 97 38 15 00 40 00 75 04 05 07 78 52 12 50 77 91 08\\n49 49 99 40 17 81 18 57 60 87 17 40 98 43 69 48 04 56 62 00\\n81 49 31 73 55 79 14 29 93 71 40 67 53 88 30 03 49 13 36 65\\n52 70 95 23 04 60 11 42 69 24 68 56 01 32 56 71 37 02 36 91\\n22 31 16 71 51 67 63 89 41 92 36 54 22 40 40 28 66 33 13 80\\n24 47 32 60 99 03 45 02 44 75 33 53 78 36 84 20 35 17 12 50\\n32 98 81 28 64 23 67 10 26 38 40 67 59 54 70 66 18 38 64 70\\n67 26 20 68 02 62 12 20 95 63 94 39 63 08 40 91 66 49 94 21\\n24 55 58 05 66 73 99 26 97 17 78 78 96 83 14 88 34 89 63 72\\n21 36 23 09 75 00 76 44 20 45 35 14 00 61 33 97 34 31 33 95\\n78 17 53 28 22 75 31 67 15 94 03 80 04 62 16 14 09 53 56 92\\n16 39 05 42 96 35 31 47 55 58 88 24 00 17 54 24 36 29 85 57\\n86 56 00 48 35 71 89 07 05 44 44 37 44 60 21 58 51 54 17 58\\n19 80 81 68 05 94 47 69 28 73 92 13 86 52 17 77 04 89 55 40\\n04 52 08 83 97 35 99 16 07 97 57 32 16 26 26 79 33 27 98 66\\n88 36 68 87 57 62 20 72 03 46 33 67 46 55 12 32 63 93 53 69\\n04 42 16 73 38 25 39 11 24 94 72 18 08 46 29 32 40 62 76 36\\n20 69 36 41 72 30 23 88 34 62 99 69 82 67 59 85 74 04 36 16\\n20 73 35 29 78 31 90 01 74 31 49 71 48 86 81 16 23 57 05 54\\n01 70 54 71 83 51 54 69 16 92 33 48 61 43 52 01 89 19 67 48'"
      ]
     },
     "execution_count": 57,
     "metadata": {},
     "output_type": "execute_result"
    }
   ],
   "source": [
    "# 11. Largest product in a grid\n",
    "nums = '''08 02 22 97 38 15 00 40 00 75 04 05 07 78 52 12 50 77 91 08\n",
    "49 49 99 40 17 81 18 57 60 87 17 40 98 43 69 48 04 56 62 00\n",
    "81 49 31 73 55 79 14 29 93 71 40 67 53 88 30 03 49 13 36 65\n",
    "52 70 95 23 04 60 11 42 69 24 68 56 01 32 56 71 37 02 36 91\n",
    "22 31 16 71 51 67 63 89 41 92 36 54 22 40 40 28 66 33 13 80\n",
    "24 47 32 60 99 03 45 02 44 75 33 53 78 36 84 20 35 17 12 50\n",
    "32 98 81 28 64 23 67 10 26 38 40 67 59 54 70 66 18 38 64 70\n",
    "67 26 20 68 02 62 12 20 95 63 94 39 63 08 40 91 66 49 94 21\n",
    "24 55 58 05 66 73 99 26 97 17 78 78 96 83 14 88 34 89 63 72\n",
    "21 36 23 09 75 00 76 44 20 45 35 14 00 61 33 97 34 31 33 95\n",
    "78 17 53 28 22 75 31 67 15 94 03 80 04 62 16 14 09 53 56 92\n",
    "16 39 05 42 96 35 31 47 55 58 88 24 00 17 54 24 36 29 85 57\n",
    "86 56 00 48 35 71 89 07 05 44 44 37 44 60 21 58 51 54 17 58\n",
    "19 80 81 68 05 94 47 69 28 73 92 13 86 52 17 77 04 89 55 40\n",
    "04 52 08 83 97 35 99 16 07 97 57 32 16 26 26 79 33 27 98 66\n",
    "88 36 68 87 57 62 20 72 03 46 33 67 46 55 12 32 63 93 53 69\n",
    "04 42 16 73 38 25 39 11 24 94 72 18 08 46 29 32 40 62 76 36\n",
    "20 69 36 41 72 30 23 88 34 62 99 69 82 67 59 85 74 04 36 16\n",
    "20 73 35 29 78 31 90 01 74 31 49 71 48 86 81 16 23 57 05 54\n",
    "01 70 54 71 83 51 54 69 16 92 33 48 61 43 52 01 89 19 67 48'''\n",
    "\n",
    "nums"
   ]
  },
  {
   "cell_type": "code",
   "execution_count": 58,
   "metadata": {},
   "outputs": [
    {
     "data": {
      "text/plain": [
       "['08 02 22 97 38 15 00 40 00 75 04 05 07 78 52 12 50 77 91 08',\n",
       " '49 49 99 40 17 81 18 57 60 87 17 40 98 43 69 48 04 56 62 00',\n",
       " '81 49 31 73 55 79 14 29 93 71 40 67 53 88 30 03 49 13 36 65',\n",
       " '52 70 95 23 04 60 11 42 69 24 68 56 01 32 56 71 37 02 36 91',\n",
       " '22 31 16 71 51 67 63 89 41 92 36 54 22 40 40 28 66 33 13 80',\n",
       " '24 47 32 60 99 03 45 02 44 75 33 53 78 36 84 20 35 17 12 50',\n",
       " '32 98 81 28 64 23 67 10 26 38 40 67 59 54 70 66 18 38 64 70',\n",
       " '67 26 20 68 02 62 12 20 95 63 94 39 63 08 40 91 66 49 94 21',\n",
       " '24 55 58 05 66 73 99 26 97 17 78 78 96 83 14 88 34 89 63 72',\n",
       " '21 36 23 09 75 00 76 44 20 45 35 14 00 61 33 97 34 31 33 95',\n",
       " '78 17 53 28 22 75 31 67 15 94 03 80 04 62 16 14 09 53 56 92',\n",
       " '16 39 05 42 96 35 31 47 55 58 88 24 00 17 54 24 36 29 85 57',\n",
       " '86 56 00 48 35 71 89 07 05 44 44 37 44 60 21 58 51 54 17 58',\n",
       " '19 80 81 68 05 94 47 69 28 73 92 13 86 52 17 77 04 89 55 40',\n",
       " '04 52 08 83 97 35 99 16 07 97 57 32 16 26 26 79 33 27 98 66',\n",
       " '88 36 68 87 57 62 20 72 03 46 33 67 46 55 12 32 63 93 53 69',\n",
       " '04 42 16 73 38 25 39 11 24 94 72 18 08 46 29 32 40 62 76 36',\n",
       " '20 69 36 41 72 30 23 88 34 62 99 69 82 67 59 85 74 04 36 16',\n",
       " '20 73 35 29 78 31 90 01 74 31 49 71 48 86 81 16 23 57 05 54',\n",
       " '01 70 54 71 83 51 54 69 16 92 33 48 61 43 52 01 89 19 67 48']"
      ]
     },
     "execution_count": 58,
     "metadata": {},
     "output_type": "execute_result"
    }
   ],
   "source": [
    "nums = nums.strip().split('\\n')\n",
    "nums"
   ]
  },
  {
   "cell_type": "code",
   "execution_count": 59,
   "metadata": {},
   "outputs": [
    {
     "data": {
      "text/plain": [
       "'99'"
      ]
     },
     "execution_count": 59,
     "metadata": {},
     "output_type": "execute_result"
    }
   ],
   "source": [
    "nums = [x.strip().split(' ') for x in nums]\n",
    "nums[1][2]"
   ]
  },
  {
   "cell_type": "code",
   "execution_count": 68,
   "metadata": {},
   "outputs": [
    {
     "name": "stdout",
     "output_type": "stream",
     "text": [
      "43680\n"
     ]
    }
   ],
   "source": [
    "from functools import reduce\n",
    "\n",
    "def findMax2D(matrix: List[List], n: int) -> int:\n",
    "    max_r = max(reduce((lambda x, y: int(x) * int(y)), r) for r in matrix)\n",
    "#     print('max_r = {}'.format(max_r))\n",
    "    max_c = max(reduce((lambda x, y: int(x) * int(y)), list(c)) for c in zip(*matrix))\n",
    "#     print('max_c = {}'.format(max_c))\n",
    "    max_pd = reduce((lambda x, y: int(x) * int(y)), [matrix[i][i] for i in range(n)])\n",
    "#     print('max_pd = {}'.format(max_pd))\n",
    "    max_sd = reduce((lambda x, y: int(x) * int(y)), [matrix[i][n-i-1] for i in range(n)])\n",
    "#     print('max_sd = {}'.format(max_sd))\n",
    "    \n",
    "    return max(max_r, max_c, max_pd, max_sd)\n",
    "    \n",
    "l2 = [[1,2,3,4],\n",
    "      [5,6,7,8],\n",
    "      [9,10,11,12],\n",
    "      [13,14,15,16]\n",
    "     ]\n",
    "\n",
    "print(findMax2D(l2, 4))"
   ]
  },
  {
   "cell_type": "code",
   "execution_count": 69,
   "metadata": {},
   "outputs": [
    {
     "ename": "AssertionError",
     "evalue": "24468444",
     "output_type": "error",
     "traceback": [
      "\u001b[0;31m---------------------------------------------------------------------------\u001b[0m",
      "\u001b[0;31mAssertionError\u001b[0m                            Traceback (most recent call last)",
      "\u001b[0;32m<ipython-input-69-1f87b3876672>\u001b[0m in \u001b[0;36m<module>\u001b[0;34m\u001b[0m\n\u001b[1;32m      8\u001b[0m     \u001b[0m_max\u001b[0m \u001b[0;34m=\u001b[0m \u001b[0mmax\u001b[0m\u001b[0;34m(\u001b[0m\u001b[0m_max\u001b[0m\u001b[0;34m,\u001b[0m \u001b[0m_m\u001b[0m\u001b[0;34m)\u001b[0m\u001b[0;34m\u001b[0m\u001b[0;34m\u001b[0m\u001b[0m\n\u001b[1;32m      9\u001b[0m \u001b[0;34m\u001b[0m\u001b[0m\n\u001b[0;32m---> 10\u001b[0;31m \u001b[0;32massert\u001b[0m \u001b[0;36m70600674\u001b[0m \u001b[0;34m==\u001b[0m \u001b[0m_max\u001b[0m\u001b[0;34m,\u001b[0m \u001b[0m_max\u001b[0m\u001b[0;34m\u001b[0m\u001b[0;34m\u001b[0m\u001b[0m\n\u001b[0m",
      "\u001b[0;31mAssertionError\u001b[0m: 24468444"
     ]
    }
   ],
   "source": [
    "import numpy as np\n",
    "_max = 0\n",
    "nums = np.array(nums)\n",
    "for i in range(17):\n",
    "    l2 = nums[i:i+4, i:i+4]\n",
    "#     print(l2.tolist())    \n",
    "    _m = findMax2D(l2.tolist(), 4)\n",
    "    _max = max(_max, _m)\n",
    "\n",
    "assert 70600674 == _max, _max    "
   ]
  }
 ],
 "metadata": {
  "kernelspec": {
   "display_name": "Python 3",
   "language": "python",
   "name": "python3"
  },
  "language_info": {
   "codemirror_mode": {
    "name": "ipython",
    "version": 3
   },
   "file_extension": ".py",
   "mimetype": "text/x-python",
   "name": "python",
   "nbconvert_exporter": "python",
   "pygments_lexer": "ipython3",
   "version": "3.7.6"
  }
 },
 "nbformat": 4,
 "nbformat_minor": 4
}

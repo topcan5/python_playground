{
 "cells": [
  {
   "cell_type": "code",
   "execution_count": 10,
   "id": "8f27d575",
   "metadata": {},
   "outputs": [
    {
     "name": "stdout",
     "output_type": "stream",
     "text": [
      "1.4.3\n"
     ]
    }
   ],
   "source": [
    "import numpy as np\n",
    "import pandas as pd\n",
    "print(pd.__version__)"
   ]
  },
  {
   "cell_type": "markdown",
   "id": "9fbc5015",
   "metadata": {},
   "source": [
    "# panda time"
   ]
  },
  {
   "cell_type": "code",
   "execution_count": 2,
   "id": "e267df07",
   "metadata": {},
   "outputs": [
    {
     "data": {
      "text/plain": [
       "1660494129675.021"
      ]
     },
     "execution_count": 2,
     "metadata": {},
     "output_type": "execute_result"
    }
   ],
   "source": [
    "pd.Timestamp.now().timestamp() * 1000"
   ]
  },
  {
   "cell_type": "code",
   "execution_count": 3,
   "id": "b3e96e19",
   "metadata": {},
   "outputs": [
    {
     "data": {
      "text/plain": [
       "1660512129.68946"
      ]
     },
     "execution_count": 3,
     "metadata": {},
     "output_type": "execute_result"
    }
   ],
   "source": [
    "import time\n",
    "time.time()"
   ]
  },
  {
   "cell_type": "code",
   "execution_count": 4,
   "id": "61f95818",
   "metadata": {},
   "outputs": [
    {
     "data": {
      "text/plain": [
       "1660512129.693694"
      ]
     },
     "execution_count": 4,
     "metadata": {},
     "output_type": "execute_result"
    }
   ],
   "source": [
    "from datetime import datetime\n",
    "datetime.now().timestamp()"
   ]
  },
  {
   "cell_type": "markdown",
   "id": "312540f3-6063-4e79-afc6-b6502844dfb9",
   "metadata": {},
   "source": [
    "# quantile"
   ]
  },
  {
   "cell_type": "code",
   "execution_count": 14,
   "id": "88e8f16a-4dd5-4296-a65c-0b488eb6b2ae",
   "metadata": {},
   "outputs": [
    {
     "data": {
      "text/plain": [
       "array([ 1.  ,  3.25,  5.5 ,  7.75, 10.  ])"
      ]
     },
     "execution_count": 14,
     "metadata": {},
     "output_type": "execute_result"
    }
   ],
   "source": [
    "arr = np.random.randn(1000)\n",
    "arr = [1, 2, 3, 4, 5, 6, 7, 8, 9, 10]\n",
    "# ex_bins = pd.core.algorithms.core.quantile(arr, [0, .25, .5, .75, 1.])\n",
    "np.percentile(arr, [0, 25, 50, 75, 100])"
   ]
  }
 ],
 "metadata": {
  "kernelspec": {
   "display_name": "Python 3 (ipykernel)",
   "language": "python",
   "name": "python3"
  },
  "language_info": {
   "codemirror_mode": {
    "name": "ipython",
    "version": 3
   },
   "file_extension": ".py",
   "mimetype": "text/x-python",
   "name": "python",
   "nbconvert_exporter": "python",
   "pygments_lexer": "ipython3",
   "version": "3.8.10"
  }
 },
 "nbformat": 4,
 "nbformat_minor": 5
}

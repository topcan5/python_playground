{
 "cells": [
  {
   "cell_type": "code",
   "execution_count": 1,
   "id": "4ad11e79",
   "metadata": {},
   "outputs": [],
   "source": [
    "import pickle"
   ]
  },
  {
   "cell_type": "code",
   "execution_count": 2,
   "id": "6575929b",
   "metadata": {},
   "outputs": [],
   "source": [
    "class Company(object):\n",
    "    def __init__(self, name, value):\n",
    "        self.name = name\n",
    "        self.value = value"
   ]
  },
  {
   "cell_type": "code",
   "execution_count": 6,
   "id": "7738988b",
   "metadata": {},
   "outputs": [
    {
     "data": {
      "text/plain": [
       "<__main__.Company at 0x7fc2f38e7a90>"
      ]
     },
     "execution_count": 6,
     "metadata": {},
     "output_type": "execute_result"
    }
   ],
   "source": [
    "c1 = Company('banana', 40)\n",
    "c1"
   ]
  },
  {
   "cell_type": "code",
   "execution_count": 7,
   "id": "c284e081-2975-4053-8c1e-7a5ada545576",
   "metadata": {},
   "outputs": [
    {
     "data": {
      "text/plain": [
       "'banana'"
      ]
     },
     "execution_count": 7,
     "metadata": {},
     "output_type": "execute_result"
    }
   ],
   "source": [
    "c1.name"
   ]
  },
  {
   "cell_type": "code",
   "execution_count": 8,
   "id": "d7d16248-9571-4df5-b0a3-377bc38bfed5",
   "metadata": {},
   "outputs": [],
   "source": [
    "fileObj = open('company.pkl', 'wb')\n",
    "pickle.dump(c1,fileObj)"
   ]
  },
  {
   "cell_type": "code",
   "execution_count": 10,
   "id": "b9a5c295-60bc-4130-983a-7e49354b6f7b",
   "metadata": {},
   "outputs": [],
   "source": [
    "fileObj = open('company.pkl', 'rb')\n",
    "c2 = pickle.load(fileObj)"
   ]
  },
  {
   "cell_type": "code",
   "execution_count": 11,
   "id": "6dd382f6-dcd8-4c9c-b195-3b00c7bca155",
   "metadata": {},
   "outputs": [
    {
     "data": {
      "text/plain": [
       "'banana'"
      ]
     },
     "execution_count": 11,
     "metadata": {},
     "output_type": "execute_result"
    }
   ],
   "source": [
    "c2.name"
   ]
  },
  {
   "cell_type": "code",
   "execution_count": null,
   "id": "12f1379a-d9a3-4014-a837-58564afe6ecb",
   "metadata": {},
   "outputs": [],
   "source": []
  }
 ],
 "metadata": {
  "kernelspec": {
   "display_name": "Python 3 (ipykernel)",
   "language": "python",
   "name": "python3"
  },
  "language_info": {
   "codemirror_mode": {
    "name": "ipython",
    "version": 3
   },
   "file_extension": ".py",
   "mimetype": "text/x-python",
   "name": "python",
   "nbconvert_exporter": "python",
   "pygments_lexer": "ipython3",
   "version": "3.8.10"
  }
 },
 "nbformat": 4,
 "nbformat_minor": 5
}

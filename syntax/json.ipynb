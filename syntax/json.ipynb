{
 "cells": [
  {
   "cell_type": "code",
   "execution_count": 1,
   "id": "4ad11e79",
   "metadata": {},
   "outputs": [],
   "source": [
    "import json"
   ]
  },
  {
   "cell_type": "code",
   "execution_count": 6,
   "id": "6575929b",
   "metadata": {},
   "outputs": [
    {
     "name": "stdout",
     "output_type": "stream",
     "text": [
      "{'a': 54, 'b': 28, 'c': [2, 4, 5], 'd': {'e': 8}}\n",
      "54\n",
      "28\n",
      "[2, 4, 5]\n",
      "{'e': 8}\n",
      "8\n"
     ]
    }
   ],
   "source": [
    "# https://pythonexamples.org/python-json-to-dict/\n",
    "jsonString = '{\"a\":54, \"b\": 28, \"c\": [2, 4, 5], \"d\": {\"e\": 8}}'\n",
    "aDict = json.loads(jsonString)\n",
    "print(aDict)\n",
    "print(aDict['a'])\n",
    "print(aDict['b'])\n",
    "print(aDict['c'])\n",
    "print(aDict['d'])\n",
    "print(aDict['d']['e'])"
   ]
  },
  {
   "cell_type": "code",
   "execution_count": 7,
   "id": "7738988b",
   "metadata": {},
   "outputs": [
    {
     "data": {
      "text/plain": [
       "dict"
      ]
     },
     "execution_count": 7,
     "metadata": {},
     "output_type": "execute_result"
    }
   ],
   "source": [
    "type(aDict)"
   ]
  },
  {
   "cell_type": "code",
   "execution_count": 1,
   "id": "d7d16248-9571-4df5-b0a3-377bc38bfed5",
   "metadata": {},
   "outputs": [
    {
     "name": "stdout",
     "output_type": "stream",
     "text": [
      "<class 'dict'>\n",
      "{'a': 1, 'b': 2}\n"
     ]
    }
   ],
   "source": [
    "import ast\n",
    "dictionary = ast.literal_eval(\"{'a': 1, 'b': 2}\")\n",
    "print (type(dictionary))\n",
    "print (dictionary)"
   ]
  },
  {
   "cell_type": "code",
   "execution_count": 3,
   "id": "b9a5c295-60bc-4130-983a-7e49354b6f7b",
   "metadata": {},
   "outputs": [
    {
     "data": {
      "text/plain": [
       "123"
      ]
     },
     "execution_count": 3,
     "metadata": {},
     "output_type": "execute_result"
    }
   ],
   "source": [
    "json.loads('123'.strip())"
   ]
  }
 ],
 "metadata": {
  "kernelspec": {
   "display_name": "Python 3 (ipykernel)",
   "language": "python",
   "name": "python3"
  },
  "language_info": {
   "codemirror_mode": {
    "name": "ipython",
    "version": 3
   },
   "file_extension": ".py",
   "mimetype": "text/x-python",
   "name": "python",
   "nbconvert_exporter": "python",
   "pygments_lexer": "ipython3",
   "version": "3.8.10"
  }
 },
 "nbformat": 4,
 "nbformat_minor": 5
}
